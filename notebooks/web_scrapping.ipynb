{
 "cells": [
  {
   "cell_type": "code",
   "execution_count": 6,
   "metadata": {},
   "outputs": [],
   "source": [
    "import requests\n",
    "import json\n",
    "import pandas as pd\n",
    "import time\n",
    "\n",
    "from selenium import webdriver\n",
    "from bs4 import BeautifulSoup\n",
    "from pprint import pprint\n",
    "from tqdm import tqdm"
   ]
  },
  {
   "cell_type": "code",
   "execution_count": 2,
   "metadata": {},
   "outputs": [],
   "source": [
    "driver = webdriver.Chrome(executable_path='/home/chewzy/selenium_drivers/chromedriver')"
   ]
  },
  {
   "cell_type": "code",
   "execution_count": 3,
   "metadata": {},
   "outputs": [],
   "source": [
    "def get_full_link(project_id):\n",
    "    return f'https://homes.hdb.gov.sg/home/sbf/details/{project_id}'"
   ]
  },
  {
   "cell_type": "markdown",
   "metadata": {},
   "source": [
    "# Get SBF Info"
   ]
  },
  {
   "cell_type": "code",
   "execution_count": 137,
   "metadata": {},
   "outputs": [],
   "source": [
    "def get_sbf_info(project_id):\n",
    "    \n",
    "    assert '2021-05_SBF' in project_id, f'{project_id} is invalid'\n",
    "    url = get_full_link(project_id)\n",
    "    driver.get(url)\n",
    "    time.sleep(.5)\n",
    "    \n",
    "    retry_count = 5\n",
    "    sbf_info = dict()\n",
    "    \n",
    "    while retry_count > 0:\n",
    "        \n",
    "        retry_count -= 1\n",
    "        try:\n",
    "            soup = BeautifulSoup(driver.page_source)\n",
    "\n",
    "            params = {'class':'col-lg-6 col-sm-12 col-md-6 mb-3'}\n",
    "            sbf_raw = [div.text for div in soup.find_all('div', **params)]\n",
    "            \n",
    "            sbf_info['Town'] = sbf_raw[0].replace('Town','').strip()\n",
    "            sbf_info['Remaining_Lease'] = sbf_raw[1].replace('Remaining Lease','').strip()\n",
    "            sbf_info['Est_Completion'] = sbf_raw[2].replace('Est. Completion Date','').strip()\n",
    "            sbf_info['proj_id'] = project_id\n",
    "            return pd.DataFrame(sbf_info, index=[0])\n",
    "        \n",
    "        except Exception as e:\n",
    "            print(e)\n",
    "            print(f'Retrying {project_id}')\n",
    "        \n",
    "    return None"
   ]
  },
  {
   "cell_type": "code",
   "execution_count": 127,
   "metadata": {},
   "outputs": [],
   "source": [
    "project_id = '2021-05_SBF_WVNfTjZDOV8xNjIwMjE5NjAwMDc0'\n",
    "sbf_info = get_sbf_info(project_id)"
   ]
  },
  {
   "cell_type": "code",
   "execution_count": 129,
   "metadata": {},
   "outputs": [],
   "source": [
    "df_sbf_info = pd.DataFrame()"
   ]
  },
  {
   "cell_type": "code",
   "execution_count": 138,
   "metadata": {},
   "outputs": [
    {
     "name": "stderr",
     "output_type": "stream",
     "text": [
      " 23%|██▎       | 96/421 [01:49<05:55,  1.09s/it]"
     ]
    },
    {
     "name": "stdout",
     "output_type": "stream",
     "text": [
      "list index out of range\n",
      "Retrying 2021-05_SBF_UEdfUzJDMzdfMTYyMDM2MTkyMDE1Mg\n",
      "list index out of range\n",
      "Retrying 2021-05_SBF_UEdfUzJDMzdfMTYyMDM2MTkyMDE1Mg\n",
      "list index out of range\n",
      "Retrying 2021-05_SBF_UEdfUzJDMzdfMTYyMDM2MTkyMDE1Mg\n",
      "list index out of range\n",
      "Retrying 2021-05_SBF_UEdfUzJDMzdfMTYyMDM2MTkyMDE1Mg\n",
      "list index out of range\n",
      "Retrying 2021-05_SBF_UEdfUzJDMzdfMTYyMDM2MTkyMDE1Mg\n"
     ]
    },
    {
     "name": "stderr",
     "output_type": "stream",
     "text": [
      " 39%|███▊      | 163/421 [03:46<05:40,  1.32s/it]  "
     ]
    },
    {
     "name": "stdout",
     "output_type": "stream",
     "text": [
      "list index out of range\n",
      "Retrying 2021-05_SBF_V0xfTjdDMjFfMTYyMDIxOTYwMDA4Mg\n",
      "list index out of range\n",
      "Retrying 2021-05_SBF_V0xfTjdDMjFfMTYyMDIxOTYwMDA4Mg\n",
      "list index out of range\n",
      "Retrying 2021-05_SBF_V0xfTjdDMjFfMTYyMDIxOTYwMDA4Mg\n",
      "list index out of range\n",
      "Retrying 2021-05_SBF_V0xfTjdDMjFfMTYyMDIxOTYwMDA4Mg\n",
      "list index out of range\n",
      "Retrying 2021-05_SBF_V0xfTjdDMjFfMTYyMDIxOTYwMDA4Mg\n"
     ]
    },
    {
     "name": "stderr",
     "output_type": "stream",
     "text": [
      " 40%|███▉      | 167/421 [04:04<22:40,  5.36s/it]"
     ]
    },
    {
     "name": "stdout",
     "output_type": "stream",
     "text": [
      "list index out of range\n",
      "Retrying 2021-05_SBF_V0xfTjdDMTRfMTYyMDIxMjQwMDA3Nw\n",
      "list index out of range\n",
      "Retrying 2021-05_SBF_V0xfTjdDMTRfMTYyMDIxMjQwMDA3Nw\n",
      "list index out of range\n",
      "Retrying 2021-05_SBF_V0xfTjdDMTRfMTYyMDIxMjQwMDA3Nw\n",
      "list index out of range\n",
      "Retrying 2021-05_SBF_V0xfTjdDMTRfMTYyMDIxMjQwMDA3Nw\n",
      "list index out of range\n",
      "Retrying 2021-05_SBF_V0xfTjdDMTRfMTYyMDIxMjQwMDA3Nw\n"
     ]
    },
    {
     "name": "stderr",
     "output_type": "stream",
     "text": [
      "\r",
      " 40%|███▉      | 168/421 [04:05<17:26,  4.14s/it]"
     ]
    },
    {
     "name": "stdout",
     "output_type": "stream",
     "text": [
      "list index out of range\n",
      "Retrying 2021-05_SBF_V0xfTjdDMzBfMTYyMDM2Mzg0MDA0OA\n",
      "list index out of range\n",
      "Retrying 2021-05_SBF_V0xfTjdDMzBfMTYyMDM2Mzg0MDA0OA\n",
      "list index out of range\n",
      "Retrying 2021-05_SBF_V0xfTjdDMzBfMTYyMDM2Mzg0MDA0OA\n",
      "list index out of range\n",
      "Retrying 2021-05_SBF_V0xfTjdDMzBfMTYyMDM2Mzg0MDA0OA\n",
      "list index out of range\n",
      "Retrying 2021-05_SBF_V0xfTjdDMzBfMTYyMDM2Mzg0MDA0OA\n"
     ]
    },
    {
     "name": "stderr",
     "output_type": "stream",
     "text": [
      "\r",
      " 40%|████      | 169/421 [04:07<14:07,  3.36s/it]"
     ]
    },
    {
     "name": "stdout",
     "output_type": "stream",
     "text": [
      "list index out of range\n",
      "Retrying 2021-05_SBF_V0xfTjdDMzJfMTYyMDQ1Nzc0MDAyMw\n",
      "list index out of range\n",
      "Retrying 2021-05_SBF_V0xfTjdDMzJfMTYyMDQ1Nzc0MDAyMw\n",
      "list index out of range\n",
      "Retrying 2021-05_SBF_V0xfTjdDMzJfMTYyMDQ1Nzc0MDAyMw\n",
      "list index out of range\n",
      "Retrying 2021-05_SBF_V0xfTjdDMzJfMTYyMDQ1Nzc0MDAyMw\n",
      "list index out of range\n",
      "Retrying 2021-05_SBF_V0xfTjdDMzJfMTYyMDQ1Nzc0MDAyMw\n"
     ]
    },
    {
     "name": "stderr",
     "output_type": "stream",
     "text": [
      "\r",
      " 40%|████      | 170/421 [04:08<11:19,  2.71s/it]"
     ]
    },
    {
     "name": "stdout",
     "output_type": "stream",
     "text": [
      "list index out of range\n",
      "Retrying 2021-05_SBF_V0xfTjdDOF8xNjIwMjEyNDAwMDc3\n",
      "list index out of range\n",
      "Retrying 2021-05_SBF_V0xfTjdDOF8xNjIwMjEyNDAwMDc3\n",
      "list index out of range\n",
      "Retrying 2021-05_SBF_V0xfTjdDOF8xNjIwMjEyNDAwMDc3\n",
      "list index out of range\n",
      "Retrying 2021-05_SBF_V0xfTjdDOF8xNjIwMjEyNDAwMDc3\n",
      "list index out of range\n",
      "Retrying 2021-05_SBF_V0xfTjdDOF8xNjIwMjEyNDAwMDc3\n"
     ]
    },
    {
     "name": "stderr",
     "output_type": "stream",
     "text": [
      "\r",
      " 41%|████      | 171/421 [04:09<09:23,  2.25s/it]"
     ]
    },
    {
     "name": "stdout",
     "output_type": "stream",
     "text": [
      "list index out of range\n",
      "Retrying 2021-05_SBF_V0xfTjFDM18xNjIwMjEyNDAwMjU2\n",
      "list index out of range\n",
      "Retrying 2021-05_SBF_V0xfTjFDM18xNjIwMjEyNDAwMjU2\n",
      "list index out of range\n",
      "Retrying 2021-05_SBF_V0xfTjFDM18xNjIwMjEyNDAwMjU2\n",
      "list index out of range\n",
      "Retrying 2021-05_SBF_V0xfTjFDM18xNjIwMjEyNDAwMjU2\n",
      "list index out of range\n",
      "Retrying 2021-05_SBF_V0xfTjFDM18xNjIwMjEyNDAwMjU2\n"
     ]
    },
    {
     "name": "stderr",
     "output_type": "stream",
     "text": [
      "\r",
      " 41%|████      | 172/421 [04:10<07:58,  1.92s/it]"
     ]
    },
    {
     "name": "stdout",
     "output_type": "stream",
     "text": [
      "list index out of range\n",
      "Retrying 2021-05_SBF_V0xfTjFDMjVfMTYyMDIxMjQwMDI1OQ\n",
      "list index out of range\n",
      "Retrying 2021-05_SBF_V0xfTjFDMjVfMTYyMDIxMjQwMDI1OQ\n",
      "list index out of range\n",
      "Retrying 2021-05_SBF_V0xfTjFDMjVfMTYyMDIxMjQwMDI1OQ\n",
      "list index out of range\n",
      "Retrying 2021-05_SBF_V0xfTjFDMjVfMTYyMDIxMjQwMDI1OQ\n",
      "list index out of range\n",
      "Retrying 2021-05_SBF_V0xfTjFDMjVfMTYyMDIxMjQwMDI1OQ\n"
     ]
    },
    {
     "name": "stderr",
     "output_type": "stream",
     "text": [
      "\r",
      " 41%|████      | 173/421 [04:11<06:58,  1.69s/it]"
     ]
    },
    {
     "name": "stdout",
     "output_type": "stream",
     "text": [
      "list index out of range\n",
      "Retrying 2021-05_SBF_V0xfTjFDMjZfMTYyMDM2MzYwMDE4NA\n",
      "list index out of range\n",
      "Retrying 2021-05_SBF_V0xfTjFDMjZfMTYyMDM2MzYwMDE4NA\n",
      "list index out of range\n",
      "Retrying 2021-05_SBF_V0xfTjFDMjZfMTYyMDM2MzYwMDE4NA\n",
      "list index out of range\n",
      "Retrying 2021-05_SBF_V0xfTjFDMjZfMTYyMDM2MzYwMDE4NA\n",
      "list index out of range\n",
      "Retrying 2021-05_SBF_V0xfTjFDMjZfMTYyMDM2MzYwMDE4NA\n"
     ]
    },
    {
     "name": "stderr",
     "output_type": "stream",
     "text": [
      "\r",
      " 41%|████▏     | 174/421 [04:13<06:21,  1.55s/it]"
     ]
    },
    {
     "name": "stdout",
     "output_type": "stream",
     "text": [
      "list index out of range\n",
      "Retrying 2021-05_SBF_V0xfTjFDMTlfMTYyMDIxMjQwMDI1OA\n",
      "list index out of range\n",
      "Retrying 2021-05_SBF_V0xfTjFDMTlfMTYyMDIxMjQwMDI1OA\n",
      "list index out of range\n",
      "Retrying 2021-05_SBF_V0xfTjFDMTlfMTYyMDIxMjQwMDI1OA\n",
      "list index out of range\n",
      "Retrying 2021-05_SBF_V0xfTjFDMTlfMTYyMDIxMjQwMDI1OA\n",
      "list index out of range\n",
      "Retrying 2021-05_SBF_V0xfTjFDMTlfMTYyMDIxMjQwMDI1OA\n"
     ]
    },
    {
     "name": "stderr",
     "output_type": "stream",
     "text": [
      "\r",
      " 42%|████▏     | 175/421 [04:14<05:52,  1.43s/it]"
     ]
    },
    {
     "name": "stdout",
     "output_type": "stream",
     "text": [
      "list index out of range\n",
      "Retrying 2021-05_SBF_V0xfTjFDN18xNjIwMjEyNDAwMjU3\n",
      "list index out of range\n",
      "Retrying 2021-05_SBF_V0xfTjFDN18xNjIwMjEyNDAwMjU3\n",
      "list index out of range\n",
      "Retrying 2021-05_SBF_V0xfTjFDN18xNjIwMjEyNDAwMjU3\n",
      "list index out of range\n",
      "Retrying 2021-05_SBF_V0xfTjFDN18xNjIwMjEyNDAwMjU3\n",
      "list index out of range\n",
      "Retrying 2021-05_SBF_V0xfTjFDN18xNjIwMjEyNDAwMjU3\n"
     ]
    },
    {
     "name": "stderr",
     "output_type": "stream",
     "text": [
      " 43%|████▎     | 181/421 [04:21<05:02,  1.26s/it]"
     ]
    },
    {
     "name": "stdout",
     "output_type": "stream",
     "text": [
      "list index out of range\n",
      "Retrying 2021-05_SBF_V0xfTjJDMV8xNjIwMjEyNDAwMjYw\n",
      "list index out of range\n",
      "Retrying 2021-05_SBF_V0xfTjJDMV8xNjIwMjEyNDAwMjYw\n"
     ]
    },
    {
     "name": "stderr",
     "output_type": "stream",
     "text": [
      " 43%|████▎     | 183/421 [04:27<08:37,  2.17s/it]"
     ]
    },
    {
     "name": "stdout",
     "output_type": "stream",
     "text": [
      "list index out of range\n",
      "Retrying 2021-05_SBF_V0xfTjNDMTRfMTYyMDQ1Nzc0MDI3NA\n",
      "list index out of range\n",
      "Retrying 2021-05_SBF_V0xfTjNDMTRfMTYyMDQ1Nzc0MDI3NA\n",
      "list index out of range\n",
      "Retrying 2021-05_SBF_V0xfTjNDMTRfMTYyMDQ1Nzc0MDI3NA\n",
      "list index out of range\n",
      "Retrying 2021-05_SBF_V0xfTjNDMTRfMTYyMDQ1Nzc0MDI3NA\n",
      "list index out of range\n",
      "Retrying 2021-05_SBF_V0xfTjNDMTRfMTYyMDQ1Nzc0MDI3NA\n"
     ]
    },
    {
     "name": "stderr",
     "output_type": "stream",
     "text": [
      "\r",
      " 44%|████▎     | 184/421 [04:28<07:24,  1.88s/it]"
     ]
    },
    {
     "name": "stdout",
     "output_type": "stream",
     "text": [
      "list index out of range\n",
      "Retrying 2021-05_SBF_V0xfTjVDMjFfMTYyMDIxMjQwMDA3Mw\n",
      "list index out of range\n",
      "Retrying 2021-05_SBF_V0xfTjVDMjFfMTYyMDIxMjQwMDA3Mw\n",
      "list index out of range\n",
      "Retrying 2021-05_SBF_V0xfTjVDMjFfMTYyMDIxMjQwMDA3Mw\n",
      "list index out of range\n",
      "Retrying 2021-05_SBF_V0xfTjVDMjFfMTYyMDIxMjQwMDA3Mw\n",
      "list index out of range\n",
      "Retrying 2021-05_SBF_V0xfTjVDMjFfMTYyMDIxMjQwMDA3Mw\n"
     ]
    },
    {
     "name": "stderr",
     "output_type": "stream",
     "text": [
      "\r",
      " 44%|████▍     | 185/421 [04:29<06:32,  1.66s/it]"
     ]
    },
    {
     "name": "stdout",
     "output_type": "stream",
     "text": [
      "list index out of range\n",
      "Retrying 2021-05_SBF_V0xfTjVDMjRfMTYyMDIxMjQwMDA3Mw\n",
      "list index out of range\n",
      "Retrying 2021-05_SBF_V0xfTjVDMjRfMTYyMDIxMjQwMDA3Mw\n",
      "list index out of range\n",
      "Retrying 2021-05_SBF_V0xfTjVDMjRfMTYyMDIxMjQwMDA3Mw\n",
      "list index out of range\n",
      "Retrying 2021-05_SBF_V0xfTjVDMjRfMTYyMDIxMjQwMDA3Mw\n",
      "list index out of range\n",
      "Retrying 2021-05_SBF_V0xfTjVDMjRfMTYyMDIxMjQwMDA3Mw\n"
     ]
    },
    {
     "name": "stderr",
     "output_type": "stream",
     "text": [
      " 45%|████▍     | 188/421 [04:33<05:27,  1.40s/it]"
     ]
    },
    {
     "name": "stdout",
     "output_type": "stream",
     "text": [
      "list index out of range\n",
      "Retrying 2021-05_SBF_V0xfTjVDNl8xNjIwMjEyNDAwMjYy\n",
      "list index out of range\n",
      "Retrying 2021-05_SBF_V0xfTjVDNl8xNjIwMjEyNDAwMjYy\n",
      "list index out of range\n",
      "Retrying 2021-05_SBF_V0xfTjVDNl8xNjIwMjEyNDAwMjYy\n",
      "list index out of range\n",
      "Retrying 2021-05_SBF_V0xfTjVDNl8xNjIwMjEyNDAwMjYy\n",
      "list index out of range\n",
      "Retrying 2021-05_SBF_V0xfTjVDNl8xNjIwMjEyNDAwMjYy\n"
     ]
    },
    {
     "name": "stderr",
     "output_type": "stream",
     "text": [
      " 46%|████▌     | 192/421 [04:52<13:08,  3.44s/it]"
     ]
    },
    {
     "name": "stdout",
     "output_type": "stream",
     "text": [
      "list index out of range\n",
      "Retrying 2021-05_SBF_V0xfTjZDMTNfMTYyMDIxMjQwMDA3NQ\n",
      "list index out of range\n",
      "Retrying 2021-05_SBF_V0xfTjZDMTNfMTYyMDIxMjQwMDA3NQ\n",
      "list index out of range\n",
      "Retrying 2021-05_SBF_V0xfTjZDMTNfMTYyMDIxMjQwMDA3NQ\n",
      "list index out of range\n",
      "Retrying 2021-05_SBF_V0xfTjZDMTNfMTYyMDIxMjQwMDA3NQ\n",
      "list index out of range\n",
      "Retrying 2021-05_SBF_V0xfTjZDMTNfMTYyMDIxMjQwMDA3NQ\n"
     ]
    },
    {
     "name": "stderr",
     "output_type": "stream",
     "text": [
      " 53%|█████▎    | 225/421 [05:28<03:29,  1.07s/it]"
     ]
    },
    {
     "name": "stdout",
     "output_type": "stream",
     "text": [
      "list index out of range\n",
      "Retrying 2021-05_SBF_QU1LX040QzE0XzE2MjAyMTA2MDAwNDc\n",
      "list index out of range\n",
      "Retrying 2021-05_SBF_QU1LX040QzE0XzE2MjAyMTA2MDAwNDc\n",
      "list index out of range\n",
      "Retrying 2021-05_SBF_QU1LX040QzE0XzE2MjAyMTA2MDAwNDc\n"
     ]
    },
    {
     "name": "stderr",
     "output_type": "stream",
     "text": [
      " 72%|███████▏  | 304/421 [06:54<02:17,  1.18s/it]"
     ]
    },
    {
     "name": "stdout",
     "output_type": "stream",
     "text": [
      "list index out of range\n",
      "Retrying 2021-05_SBF_R0xfTjRDMV8xNjE5NTA5ODQ4ODM2\n",
      "list index out of range\n",
      "Retrying 2021-05_SBF_R0xfTjRDMV8xNjE5NTA5ODQ4ODM2\n",
      "list index out of range\n",
      "Retrying 2021-05_SBF_R0xfTjRDMV8xNjE5NTA5ODQ4ODM2\n",
      "list index out of range\n",
      "Retrying 2021-05_SBF_R0xfTjRDMV8xNjE5NTA5ODQ4ODM2\n"
     ]
    },
    {
     "name": "stderr",
     "output_type": "stream",
     "text": [
      " 75%|███████▍  | 315/421 [07:06<01:51,  1.05s/it]"
     ]
    },
    {
     "name": "stdout",
     "output_type": "stream",
     "text": [
      "list index out of range\n",
      "Retrying 2021-05_SBF_S1dOX043QzEwXzE2MjA0NTcyMDAwNjQ\n",
      "list index out of range\n",
      "Retrying 2021-05_SBF_S1dOX043QzEwXzE2MjA0NTcyMDAwNjQ\n",
      "list index out of range\n",
      "Retrying 2021-05_SBF_S1dOX043QzEwXzE2MjA0NTcyMDAwNjQ\n",
      "list index out of range\n",
      "Retrying 2021-05_SBF_S1dOX043QzEwXzE2MjA0NTcyMDAwNjQ\n",
      "list index out of range\n",
      "Retrying 2021-05_SBF_S1dOX043QzEwXzE2MjA0NTcyMDAwNjQ\n"
     ]
    },
    {
     "name": "stderr",
     "output_type": "stream",
     "text": [
      " 75%|███████▌  | 317/421 [07:08<01:54,  1.10s/it]"
     ]
    },
    {
     "name": "stdout",
     "output_type": "stream",
     "text": [
      "list index out of range\n",
      "Retrying 2021-05_SBF_S1dOX043QzVfMTYyMDIxMDYwMDM2MA\n",
      "list index out of range\n",
      "Retrying 2021-05_SBF_S1dOX043QzVfMTYyMDIxMDYwMDM2MA\n",
      "list index out of range\n",
      "Retrying 2021-05_SBF_S1dOX043QzVfMTYyMDIxMDYwMDM2MA\n",
      "list index out of range\n",
      "Retrying 2021-05_SBF_S1dOX043QzVfMTYyMDIxMDYwMDM2MA\n",
      "list index out of range\n",
      "Retrying 2021-05_SBF_S1dOX043QzVfMTYyMDIxMDYwMDM2MA\n"
     ]
    },
    {
     "name": "stderr",
     "output_type": "stream",
     "text": [
      " 97%|█████████▋| 408/421 [08:55<00:51,  3.94s/it]"
     ]
    },
    {
     "name": "stdout",
     "output_type": "stream",
     "text": [
      "list index out of range\n",
      "Retrying 2021-05_SBF_WVNfTjJDNF8xNjIwMjE5NjAwMTAw\n",
      "list index out of range\n",
      "Retrying 2021-05_SBF_WVNfTjJDNF8xNjIwMjE5NjAwMTAw\n",
      "list index out of range\n",
      "Retrying 2021-05_SBF_WVNfTjJDNF8xNjIwMjE5NjAwMTAw\n",
      "list index out of range\n",
      "Retrying 2021-05_SBF_WVNfTjJDNF8xNjIwMjE5NjAwMTAw\n",
      "list index out of range\n",
      "Retrying 2021-05_SBF_WVNfTjJDNF8xNjIwMjE5NjAwMTAw\n"
     ]
    },
    {
     "name": "stderr",
     "output_type": "stream",
     "text": [
      "100%|█████████▉| 419/421 [09:10<00:02,  1.15s/it]"
     ]
    },
    {
     "name": "stdout",
     "output_type": "stream",
     "text": [
      "list index out of range\n",
      "Retrying 2021-05_SBF_U0dOX04yQzFfMTYyMDIxMjEwMDA5Ng\n",
      "list index out of range\n",
      "Retrying 2021-05_SBF_U0dOX04yQzFfMTYyMDIxMjEwMDA5Ng\n",
      "list index out of range\n",
      "Retrying 2021-05_SBF_U0dOX04yQzFfMTYyMDIxMjEwMDA5Ng\n",
      "list index out of range\n",
      "Retrying 2021-05_SBF_U0dOX04yQzFfMTYyMDIxMjEwMDA5Ng\n",
      "list index out of range\n",
      "Retrying 2021-05_SBF_U0dOX04yQzFfMTYyMDIxMjEwMDA5Ng\n"
     ]
    },
    {
     "name": "stderr",
     "output_type": "stream",
     "text": [
      "\r",
      "100%|█████████▉| 420/421 [09:11<00:01,  1.14s/it]"
     ]
    },
    {
     "name": "stdout",
     "output_type": "stream",
     "text": [
      "list index out of range\n",
      "Retrying 2021-05_SBF_VEFQX044QzMxXzE2MTk1MDk4NTA5ODA\n",
      "list index out of range\n",
      "Retrying 2021-05_SBF_VEFQX044QzMxXzE2MTk1MDk4NTA5ODA\n",
      "list index out of range\n",
      "Retrying 2021-05_SBF_VEFQX044QzMxXzE2MTk1MDk4NTA5ODA\n",
      "list index out of range\n",
      "Retrying 2021-05_SBF_VEFQX044QzMxXzE2MTk1MDk4NTA5ODA\n",
      "list index out of range\n",
      "Retrying 2021-05_SBF_VEFQX044QzMxXzE2MTk1MDk4NTA5ODA\n"
     ]
    },
    {
     "name": "stderr",
     "output_type": "stream",
     "text": [
      "100%|██████████| 421/421 [09:12<00:00,  1.31s/it]\n"
     ]
    }
   ],
   "source": [
    "failed_list = []\n",
    "\n",
    "for proj_id in tqdm(df_proj['proj_id']):\n",
    "    sbf_info = get_sbf_info(proj_id)\n",
    "    \n",
    "    if sbf_info is not None:\n",
    "        df_sbf_info = df_sbf_info.append(sbf_info)\n",
    "    else:\n",
    "        failed_list.append(proj_id)"
   ]
  },
  {
   "cell_type": "code",
   "execution_count": 148,
   "metadata": {},
   "outputs": [
    {
     "name": "stderr",
     "output_type": "stream",
     "text": [
      " 14%|█▍        | 3/21 [00:14<01:47,  5.96s/it]"
     ]
    },
    {
     "name": "stdout",
     "output_type": "stream",
     "text": [
      "list index out of range\n",
      "Retrying 2021-05_SBF_V0xfTjdDMTRfMTYyMDIxMjQwMDA3Nw\n",
      "list index out of range\n",
      "Retrying 2021-05_SBF_V0xfTjdDMTRfMTYyMDIxMjQwMDA3Nw\n",
      "list index out of range\n",
      "Retrying 2021-05_SBF_V0xfTjdDMTRfMTYyMDIxMjQwMDA3Nw\n",
      "list index out of range\n",
      "Retrying 2021-05_SBF_V0xfTjdDMTRfMTYyMDIxMjQwMDA3Nw\n",
      "list index out of range\n",
      "Retrying 2021-05_SBF_V0xfTjdDMTRfMTYyMDIxMjQwMDA3Nw\n"
     ]
    },
    {
     "name": "stderr",
     "output_type": "stream",
     "text": [
      "100%|██████████| 21/21 [00:39<00:00,  1.86s/it]\n"
     ]
    }
   ],
   "source": [
    "failed_list_2 = []\n",
    "\n",
    "for proj_id in tqdm(failed_list):\n",
    "    sbf_info = get_sbf_info(proj_id)\n",
    "    \n",
    "    if sbf_info is not None:\n",
    "        df_sbf_info = df_sbf_info.append(sbf_info)\n",
    "    else:\n",
    "        failed_list_2.append(proj_id)"
   ]
  },
  {
   "cell_type": "markdown",
   "metadata": {},
   "source": [
    "# APIs"
   ]
  },
  {
   "cell_type": "code",
   "execution_count": 10,
   "metadata": {},
   "outputs": [],
   "source": [
    "# List of POST APIs\n",
    "\n",
    "get_flat_type_avail = 'https://homes.hdb.gov.sg/home-api/public/v1/launch/getFlatTypeUnitAvailability'\n",
    "get_proj_in_same_town = 'https://homes.hdb.gov.sg/home-api/public/v1/launch/getLaunchProjectsInSameTown'\n",
    "get_proj_avail_ethnic = 'https://homes.hdb.gov.sg/home-api/public/v1/launch/getProjectAvailabilityAndEthnic'\n",
    "get_price_range_by_proj_id_and_flat = 'https://homes.hdb.gov.sg/home-api/public/v1/launch/getPriceRangeByProjectIdAndFlatType'\n",
    "get_price_range_across_town = 'https://homes.hdb.gov.sg/home-api/public/v1/launch/getPriceRangeAcrossTownByProjectIdAndFlatType'"
   ]
  },
  {
   "cell_type": "markdown",
   "metadata": {},
   "source": [
    "# Get SBF Links\n",
    "\n",
    "Need to get a list of seed project_ID for each areas"
   ]
  },
  {
   "cell_type": "code",
   "execution_count": 11,
   "metadata": {},
   "outputs": [],
   "source": [
    "df_seed_link = pd.read_csv('../data/SBF_seed_links.csv')"
   ]
  },
  {
   "cell_type": "code",
   "execution_count": 12,
   "metadata": {},
   "outputs": [],
   "source": [
    "proj_details = dict()\n",
    "\n",
    "proj_details['id_list'] = []\n",
    "proj_details['precinct_list'] = []\n",
    "proj_details['town_list'] = []"
   ]
  },
  {
   "cell_type": "code",
   "execution_count": 13,
   "metadata": {},
   "outputs": [
    {
     "name": "stderr",
     "output_type": "stream",
     "text": [
      "100%|██████████| 25/25 [00:09<00:00,  2.63it/s]\n"
     ]
    }
   ],
   "source": [
    "# First round seeds \n",
    "\n",
    "seed_links_r1 = df_seed_link['Seed_link']\n",
    "proj_id_r2 = []\n",
    "\n",
    "for seed_link in tqdm(seed_links_r1):\n",
    "    \n",
    "    proj_id = seed_link.split('/')[-1]\n",
    "    res = requests.post(\n",
    "        url=get_proj_in_same_town,\n",
    "        json={'projectId':proj_id, 'salesMode':'SBF'}\n",
    "    )\n",
    "\n",
    "    proj_list = json.loads(res.content)['projectList']\n",
    "\n",
    "    for i, proj in enumerate(proj_list):\n",
    "        \n",
    "        # Append to seed link round 2, to get the info for seed links\n",
    "        if i == 0:\n",
    "            proj_id_r2.append(proj['projectId'])\n",
    "        \n",
    "        if proj['ballotQtr'] == '2021-05':\n",
    "            proj_details['id_list'].append(proj['projectId'])\n",
    "            proj_details['precinct_list'].append(proj['precinctName'])\n",
    "            proj_details['town_list'].append(proj['town'])"
   ]
  },
  {
   "cell_type": "code",
   "execution_count": 14,
   "metadata": {},
   "outputs": [
    {
     "name": "stderr",
     "output_type": "stream",
     "text": [
      "100%|██████████| 25/25 [00:09<00:00,  2.55it/s]\n"
     ]
    }
   ],
   "source": [
    "for proj_id in tqdm(proj_id_r2):\n",
    "    \n",
    "    res = requests.post(\n",
    "        url=get_proj_in_same_town,\n",
    "        json={'projectId':proj_id, 'salesMode':'SBF'}\n",
    "    )\n",
    "\n",
    "    proj_list = json.loads(res.content)['projectList']\n",
    "\n",
    "    for i, proj in enumerate(proj_list):\n",
    "        \n",
    "        if proj['ballotQtr'] == '2021-05':\n",
    "            proj_details['id_list'].append(proj['projectId'])\n",
    "            proj_details['precinct_list'].append(proj['precinctName'])\n",
    "            proj_details['town_list'].append(proj['town'])"
   ]
  },
  {
   "cell_type": "code",
   "execution_count": 15,
   "metadata": {},
   "outputs": [],
   "source": [
    "df_proj = pd.DataFrame(proj_details)"
   ]
  },
  {
   "cell_type": "code",
   "execution_count": 19,
   "metadata": {},
   "outputs": [],
   "source": [
    "df_proj = (\n",
    "    df_proj\n",
    "    .drop_duplicates()\n",
    "    .rename(columns={'id_list':'proj_id','precinct_list':'precinct_name','town_list':'town'})\n",
    ")"
   ]
  },
  {
   "cell_type": "markdown",
   "metadata": {},
   "source": [
    "# Get Proj Info - Flat Type Availability"
   ]
  },
  {
   "cell_type": "code",
   "execution_count": 40,
   "metadata": {},
   "outputs": [],
   "source": [
    "proj_id = '2021-05_SBF_UEdfUzJDMzlfMTYyMDIxMTgwMDA2NA'"
   ]
  },
  {
   "cell_type": "code",
   "execution_count": 68,
   "metadata": {},
   "outputs": [],
   "source": [
    "def get_flat_supply_info(proj_id):\n",
    "\n",
    "    res = requests.post(\n",
    "            url=get_flat_type_avail,\n",
    "            json={'projectId':proj_id}\n",
    "    )\n",
    "\n",
    "    flat_supply_info = pd.DataFrame(\n",
    "        json.loads(res.content)\n",
    "        ['flatTypeUnitAvailabilityList']\n",
    "    )\n",
    "\n",
    "    flat_supply_info = flat_supply_info.assign(proj_id=proj_id)\n",
    "    \n",
    "    return flat_supply_info"
   ]
  },
  {
   "cell_type": "code",
   "execution_count": 69,
   "metadata": {},
   "outputs": [],
   "source": [
    "def get_block_info(proj_id):\n",
    "\n",
    "    res = requests.post(\n",
    "            url=get_proj_avail_ethnic,\n",
    "            json={'projectId':proj_id}\n",
    "    )\n",
    "\n",
    "    blocks = json.loads(res.content)['projectBlockFlatTypeInfoMap']\n",
    "\n",
    "    block_info = pd.DataFrame()\n",
    "\n",
    "    for block in blocks.values():\n",
    "        block_info = (\n",
    "            block_info\n",
    "            .append(\n",
    "                pd.DataFrame(\n",
    "                    block.values()\n",
    "                )\n",
    "            )\n",
    "        )\n",
    "    block_info = block_info.assign(proj_id=proj_id)\n",
    "    \n",
    "    return block_info"
   ]
  },
  {
   "cell_type": "code",
   "execution_count": 82,
   "metadata": {},
   "outputs": [],
   "source": [
    "def get_flat_supply_w_price(proj_id):\n",
    "    \n",
    "    flat_supply_info = get_flat_supply_info(proj_id)\n",
    "    flat_supply_info['price_range_upper'] = 0\n",
    "    flat_supply_info['price_range_lower'] = 0\n",
    "    \n",
    "    for i, row in flat_supply_info.iterrows():\n",
    "        res = requests.post(\n",
    "            url=get_price_range_by_proj_id_and_flat,\n",
    "            json={'projectId':proj_id, 'flatType':row['flatType']}\n",
    "        )\n",
    "\n",
    "        price_range = json.loads(res.content)\n",
    "        flat_supply_info.loc[i, 'price_range_upper'] = price_range['priceRangeUpper']\n",
    "        flat_supply_info.loc[i, 'price_range_lower'] = price_range['priceRangeLower']\n",
    "    \n",
    "    return flat_supply_info"
   ]
  },
  {
   "cell_type": "code",
   "execution_count": 88,
   "metadata": {},
   "outputs": [
    {
     "name": "stderr",
     "output_type": "stream",
     "text": [
      "100%|██████████| 421/421 [01:53<00:00,  3.70it/s]\n"
     ]
    }
   ],
   "source": [
    "df_block_info = pd.DataFrame()\n",
    "\n",
    "for proj_id in tqdm(df_proj['proj_id']):\n",
    "    \n",
    "    block_info = get_block_info(proj_id)\n",
    "    df_block_info = df_block_info.append(block_info)"
   ]
  },
  {
   "cell_type": "code",
   "execution_count": 139,
   "metadata": {},
   "outputs": [
    {
     "name": "stderr",
     "output_type": "stream",
     "text": [
      "100%|██████████| 421/421 [06:02<00:00,  1.16it/s]\n"
     ]
    }
   ],
   "source": [
    "df_flat_supply_info = pd.DataFrame()\n",
    "\n",
    "for proj_id in tqdm(df_proj['proj_id']):\n",
    "    \n",
    "    flat_supply_info = get_flat_supply_w_price(proj_id)\n",
    "    df_flat_supply_info = df_flat_supply_info.append(flat_supply_info)"
   ]
  },
  {
   "cell_type": "markdown",
   "metadata": {},
   "source": [
    "# Save all outputs"
   ]
  },
  {
   "cell_type": "code",
   "execution_count": 169,
   "metadata": {},
   "outputs": [],
   "source": [
    "df_sbf_info.drop_duplicates(inplace=True)\n",
    "df_flat_supply_info.drop_duplicates(inplace=True)\n",
    "df_block_info.drop_duplicates(inplace=True)\n",
    "df_proj.drop_duplicates(inplace=True)"
   ]
  },
  {
   "cell_type": "code",
   "execution_count": 173,
   "metadata": {},
   "outputs": [],
   "source": [
    "(\n",
    "    df_proj\n",
    "    .merge(df_sbf_info, on='proj_id')\n",
    "    .drop(columns=['Town'])\n",
    "    .to_csv('../data/SBF_project_info.csv', index=False)\n",
    ")\n",
    "\n",
    "df_flat_supply_info.to_csv('../data/SBF_flat_supply_info.csv', index=False)\n",
    "df_block_info.to_csv('../data/SBF_block_info.csv', index=False)"
   ]
  }
 ],
 "metadata": {
  "kernelspec": {
   "display_name": "hdb_proj",
   "language": "python",
   "name": "hdb_proj"
  },
  "language_info": {
   "codemirror_mode": {
    "name": "ipython",
    "version": 3
   },
   "file_extension": ".py",
   "mimetype": "text/x-python",
   "name": "python",
   "nbconvert_exporter": "python",
   "pygments_lexer": "ipython3",
   "version": "3.7.6"
  }
 },
 "nbformat": 4,
 "nbformat_minor": 4
}
